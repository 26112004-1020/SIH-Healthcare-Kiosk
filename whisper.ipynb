{
 "cells": [
  {
   "cell_type": "code",
   "execution_count": null,
   "metadata": {},
   "outputs": [],
   "source": [
    "import torch\n",
    "import os\n",
    "import whisper\n",
    "import numpy as np\n",
    "import json\n",
    "import uuid\n",
    "import pytesseract\n",
    "import cv2\n",
    "import sqlite3\n",
    "import random"
   ]
  },
  {
   "cell_type": "code",
   "execution_count": null,
   "metadata": {},
   "outputs": [],
   "source": [
    "torch.cuda.is_available()\n",
    "DEVICE = \"cuda\" if torch.cuda.is_available() else \"cpu\""
   ]
  },
  {
   "cell_type": "code",
   "execution_count": null,
   "metadata": {},
   "outputs": [],
   "source": [
    "model = whisper.load_model(\"D:/ML procts/SIH/large.pt\", device=DEVICE)"
   ]
  },
  {
   "cell_type": "code",
   "execution_count": null,
   "metadata": {},
   "outputs": [],
   "source": [
    "audio_file = \"C:\\\\Users\\\\adith\\\\Downloads\\\\mal.mp3\"\n",
    "options = whisper.DecodingOptions(fp16 = False)\n",
    "tamil_en = model.transcribe(audio_file, task = 'translate')"
   ]
  },
  {
   "cell_type": "code",
   "execution_count": null,
   "metadata": {},
   "outputs": [],
   "source": [
    "prompt = tamil_en[\"text\"]\n",
    "print(prompt)"
   ]
  },
  {
   "cell_type": "code",
   "execution_count": null,
   "metadata": {},
   "outputs": [],
   "source": [
    "in_language = input()"
   ]
  },
  {
   "cell_type": "code",
   "execution_count": null,
   "metadata": {},
   "outputs": [],
   "source": [
    "from medisearch_client import MediSearchClient"
   ]
  },
  {
   "cell_type": "code",
   "execution_count": null,
   "metadata": {},
   "outputs": [],
   "source": [
    "api_key = \"85c92678-0fac-4f60-b02c-9400ca591b9e\"\n",
    "conversation_id = str(uuid.uuid4())\n",
    "client = MediSearchClient(api_key=api_key)"
   ]
  },
  {
   "cell_type": "code",
   "execution_count": null,
   "metadata": {},
   "outputs": [],
   "source": [
    "query = prompt\n",
    "responses = client.send_user_message(conversation=[query],\n",
    "                                     conversation_id=conversation_id,\n",
    "                                     language=\"English\",\n",
    "                                     should_stream_response=True)\n",
    "\n",
    "for response in responses:\n",
    "  if response[\"event\"] == \"llm_response\":\n",
    "    text_response = response[\"text\"]\n",
    "limited = text_response[:390]\n",
    "print(limited)"
   ]
  },
  {
   "cell_type": "code",
   "execution_count": null,
   "metadata": {},
   "outputs": [],
   "source": [
    "from translate import Translator\n",
    "\n",
    "translator = Translator(to_lang=in_language)\n",
    "text_to_translate = limited\n",
    "translated_text = translator.translate(text_to_translate)\n",
    "print(translated_text)"
   ]
  },
  {
   "cell_type": "code",
   "execution_count": null,
   "metadata": {},
   "outputs": [],
   "source": [
    "from gtts import gTTS\n",
    "language= in_language\n",
    "text= translated_text\n",
    "speech=gTTS(text=text,lang=language,slow=False)\n",
    "speech.save(\"farmer.mp3\")"
   ]
  },
  {
   "cell_type": "code",
   "execution_count": null,
   "metadata": {},
   "outputs": [],
   "source": [
    "img=cv2.imread(r\"D:\\ML procts\\SIH\\First resume_page-0001.jpg\")\n",
    "pytesseract.pytesseract.tesseract_cmd = \"C:\\\\Program Files\\\\Tesseract-OCR\\\\tesseract.exe\"\n",
    "img=cv2.cvtColor(img,cv2.COLOR_BGR2RGB)\n",
    "text=pytesseract.image_to_string(img)\n",
    "print(text)"
   ]
  },
  {
   "cell_type": "code",
   "execution_count": null,
   "metadata": {},
   "outputs": [],
   "source": [
    "import re\n",
    "\n",
    "# Sample OCR text (replace with your OCR text)\n",
    "ocr_text = text\n",
    "\n",
    "# Define regex patterns\n",
    "aadhar_pattern = r\"\\b\\d{4} \\d{4} \\d{4}\\b\"\n",
    "mobile_pattern = r\"\\b\\d{10}\\b\"\n",
    "\n",
    "# Search for matches\n",
    "aadhar_match = re.search(aadhar_pattern, ocr_text)\n",
    "mobile_match = re.search(mobile_pattern, ocr_text)\n",
    "\n",
    "my_list = [' ', '', '¥ AN.', 'OTUTS', '', ' ', ' ', '  ', '', ' ', '', 'DiAw sperms.', 'Ugley SienL_wirentb / Enrollment No.: 2726/51200/30171', '', 'To', '', 'Asouns', 'S.L.Bharath', 'S/O: Sivaperumal', 'NO 161 NEW KUMARAN NAGAR 1ST MAIN ROAD', 'Sholinganallur', 'Sholinganallur.', 'Sholinganallur Kancheepuram', 'Tamil Nadu 600119', '9841139824', '', 'CON', '', 'ME390763086FH', '', '29/1 112013', '', '139076308', '', '2 mse 2,511) steve / Your Aadhaar No. :', '', '4961 4575 8567', '', 'THF) OFM, TOS) SIL wierd', '', ' ', '', ':: ee:', '', 'Hous', '', '‘S.L.Bharath', '', 'WSypjbgs pre / DOB ; 29/01/2005', 'ayetmud / Male', '', ' ', '', '4961 4575 8567', 'THF! MH, THB) S16OLwirerd', '\\x0c']\n",
    "\n",
    "index_add = my_list.index(\"Asouns\")\n",
    "\n",
    "\n",
    "\n",
    "# Extract Aadhar and mobile numbers\n",
    "if aadhar_match:\n",
    "    aadhar_number = aadhar_match.group()\n",
    "else:\n",
    "    aadhar_number = \"Aadhar number not found\"\n",
    "\n",
    "if mobile_match:\n",
    "    mobile_number = mobile_match.group()\n",
    "else:\n",
    "    mobile_number = \"Mobile number not found\"\n",
    "\n",
    "# Print the extracted numbers\n",
    "print(\"Name:\",my_list[index_add+1])\n",
    "print(\"Aadhar Number:\", aadhar_number)\n",
    "print(\"Mobile Number:\", mobile_number)\n",
    "print(\"Address:\")\n",
    "address = []\n",
    "for i in range(index_add+1,index_add+8):\n",
    "  print(my_list[i])\n",
    "  address.append(my_list[i])\n"
   ]
  },
  {
   "cell_type": "code",
   "execution_count": null,
   "metadata": {},
   "outputs": [],
   "source": [
    "import sqlite3\n",
    "\n",
    "# Connect to the SQLite database (or create it if it doesn't exist)\n",
    "conn = sqlite3.connect('medical_data.db')\n",
    "cursor = conn.cursor()\n",
    "\n",
    "# Create a table to store patient information\n",
    "cursor.execute('''\n",
    "    CREATE TABLE IF NOT EXISTS patients (\n",
    "        id INTEGER PRIMARY KEY,\n",
    "        prompt TEXT,\n",
    "        text_response TEXT,\n",
    "        aadhar_number TEXT,\n",
    "        mobile_number TEXT,\n",
    "        name TEXT,\n",
    "        address TEXT\n",
    "    )\n",
    "''')\n",
    "\n",
    "# Commit the changes and close the database connection\n",
    "conn.commit()\n",
    "conn.close()\n",
    "\n",
    "# Insert data into the database\n",
    "def insert_patient_data(prompt, text_response, aadhar_number, mobile_number, name, address):\n",
    "    conn = sqlite3.connect('medical_data.db')\n",
    "    cursor = conn.cursor()\n",
    "    cursor.execute('''\n",
    "        INSERT INTO patients (prompt, text_response, aadhar_number, mobile_number, name, address)\n",
    "        VALUES (?, ?, ?, ?, ?, ?)\n",
    "    ''', (prompt, text_response, aadhar_number, mobile_number, name, address))\n",
    "    conn.commit()\n",
    "    conn.close()\n",
    "\n",
    "symptom  = prompt\n",
    "response = text_response\n",
    "mobile_number = mobile_number\n",
    "name = str(my_list[index_add + 1])\n",
    "aadhar = aadhar_number\n",
    "addressdb =  '\\n'.join(address)\n",
    "\n",
    "\n",
    "# Insert the example data into the database\n",
    "insert_patient_data(prompt, text_response, aadhar_number, mobile_number, name, addressdb)\n"
   ]
  },
  {
   "cell_type": "code",
   "execution_count": null,
   "metadata": {},
   "outputs": [],
   "source": [
    "import sqlite3\n",
    "\n",
    "# Function to fetch and print patient data from the database\n",
    "def fetch_patient_data():\n",
    "    conn = sqlite3.connect('medical_data.db')\n",
    "    cursor = conn.cursor()\n",
    "    cursor.execute('SELECT * FROM patients')\n",
    "    data = cursor.fetchall()\n",
    "    conn.close()\n",
    "    \n",
    "    for row in data:\n",
    "        print(\"Patient ID:\", row[0])\n",
    "        print(\"Prompt (Symptoms):\", row[1])\n",
    "        print(\"Text Response (Remedies):\", row[2])\n",
    "        print(\"Aadhar Number:\", row[3])\n",
    "        print(\"Mobile Number:\", row[4])\n",
    "        print(\"Name:\", row[5])\n",
    "        print(\"Address:\", row[6])\n",
    "        print(\"\\n\")\n",
    "\n",
    "# Call the function to fetch and print patient data\n",
    "fetch_patient_data()\n"
   ]
  }
 ],
 "metadata": {
  "kernelspec": {
   "display_name": "Python 3",
   "language": "python",
   "name": "python3"
  },
  "language_info": {
   "codemirror_mode": {
    "name": "ipython",
    "version": 3
   },
   "file_extension": ".py",
   "mimetype": "text/x-python",
   "name": "python",
   "nbconvert_exporter": "python",
   "pygments_lexer": "ipython3",
   "version": "3.10.7"
  }
 },
 "nbformat": 4,
 "nbformat_minor": 2
}
